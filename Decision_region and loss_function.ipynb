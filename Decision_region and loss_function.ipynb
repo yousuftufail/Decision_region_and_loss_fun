{
 "cells": [
  {
   "cell_type": "code",
   "execution_count": 13,
   "metadata": {},
   "outputs": [],
   "source": [
    "# In this exercise I will explore how the decision boundary is represented by the coefficients. To do\n",
    "# so, first I will shows the decision boundary that is obtained from scikit-learn coefficients after fitting the model. And then\n",
    "# I will change the coefficients manually and see how the decision boundary is changed. Further I have calculated the number of \n",
    "# errors in the prediction in each case that can be confirmed from decision plot."
   ]
  },
  {
   "cell_type": "code",
   "execution_count": 14,
   "metadata": {},
   "outputs": [
    {
     "data": {
      "image/png": "[encoded data removed]",
      "text/plain": [
       "<Figure size 432x288 with 1 Axes>"
      ]
     },
     "metadata": {
      "needs_background": "light"
     },
     "output_type": "display_data"
    }
   ],
   "source": [
    "\"--------------It will stop Future Warning message----------------------------\"\n",
    "import warnings\n",
    "warnings.simplefilter(action='ignore', category=FutureWarning)\n",
    "\"-----------------------------------------------------------------------------\"\n",
    "\n",
    "\n",
    "\n",
    "\"For the data\"\n",
    "import pandas as pd\n",
    "\"-----------------------------\"\n",
    "X=pd.read_csv('X.csv').values\n",
    "y=pd.read_csv('y.csv')['0'].values\n",
    "\n",
    "#print(X)\n",
    "#print(y)\n",
    "\"----------------------------------\"\n",
    "\n",
    "from sklearn.linear_model import LogisticRegression\n",
    "model=LogisticRegression()\n",
    "model.fit(X,y)\n",
    "import matplotlib.pyplot as plt\n",
    "import numpy as np\n",
    "\n",
    "from mlxtend.plotting import plot_decision_regions      # I am using spyder in Anaconda. pip install mlxtend need to be run in Anaconda command prompt in order to import this module \n",
    "\n",
    "# Plotting decision regions\n",
    "plot_decision_regions(X, y, clf=model)\n",
    "\n",
    "plt.show()"
   ]
  },
  {
   "cell_type": "code",
   "execution_count": 15,
   "metadata": {},
   "outputs": [
    {
     "name": "stdout",
     "output_type": "stream",
     "text": [
      "[-1 -1 -1  1  1 -1  1  1  1 -1 -1  1  1 -1  1 -1 -1 -1 -1 -1]\n",
      "[-1 -1 -1  1  1  1  1  1  1 -1 -1  1  1 -1  1 -1 -1 -1 -1 -1]\n",
      "Number of errors: 1\n"
     ]
    }
   ],
   "source": [
    "print(y)\n",
    "print(model.predict(X))\n",
    "## Print the number of errors\n",
    "num_err = np.sum(y != model.predict(X))\n",
    "print(\"Number of errors:\", num_err)"
   ]
  },
  {
   "cell_type": "markdown",
   "metadata": {},
   "source": [
    "Conclusion:\n",
    "- There is only one error was found in the prediction (check sixth entry in the prediction matrix). This entry can also be seen in the decision region plot.\n",
    "- Now I am going to change the coefficients manually and plot the decision boundary as below."
   ]
  },
  {
   "cell_type": "code",
   "execution_count": 16,
   "metadata": {},
   "outputs": [
    {
     "data": {
      "image/png": "[encoded data removed]",
      "text/plain": [
       "<Figure size 432x288 with 1 Axes>"
      ]
     },
     "metadata": {
      "needs_background": "light"
     },
     "output_type": "display_data"
    }
   ],
   "source": [
    "# Set the coefficients manually as below:\n",
    "model.coef_ = np.array([[0,1]])\n",
    "model.intercept_ = np.array([0])\n",
    "\n",
    "from mlxtend.plotting import plot_decision_regions\n",
    "# Plotting decision regions\n",
    "plot_decision_regions(X, y, clf=model)\n",
    "\n",
    "plt.show()"
   ]
  },
  {
   "cell_type": "code",
   "execution_count": 17,
   "metadata": {},
   "outputs": [
    {
     "name": "stdout",
     "output_type": "stream",
     "text": [
      "[-1 -1 -1  1  1 -1  1  1  1 -1 -1  1  1 -1  1 -1 -1 -1 -1 -1]\n",
      "[ 1 -1 -1  1  1  1  1  1  1 -1 -1  1  1 -1  1  1 -1 -1 -1 -1]\n",
      "Number of errors: 3\n"
     ]
    }
   ],
   "source": [
    "print(y)\n",
    "print(model.predict(X))\n",
    "## Print the number of errors\n",
    "num_err = np.sum(y != model.predict(X))\n",
    "print(\"Number of errors:\", num_err)"
   ]
  },
  {
   "cell_type": "markdown",
   "metadata": {},
   "source": [
    "Conclusion:\n",
    "- There are three errors were found in the prediction (check first, sixth and sixtennth entries in the prediction matrix). This entries can also be seen in the decision region plot. \n",
    "- This decision region in this plot is completely different than first. \n",
    "- Now I am computing the loss function on the Boston housing data set and compare the result with the results of built-in module."
   ]
  },
  {
   "cell_type": "code",
   "execution_count": 18,
   "metadata": {},
   "outputs": [
    {
     "name": "stdout",
     "output_type": "stream",
     "text": [
      "[-9.28967621e-02  4.87152964e-02 -4.05677650e-03  2.85399038e+00\n",
      " -2.86841231e+00  5.92815405e+00 -7.26932412e-03 -9.68512896e-01\n",
      "  1.71156290e-01 -9.39663386e-03 -3.92187158e-01  1.49054725e-02\n",
      " -4.16304130e-01]\n",
      "[-9.28965170e-02  4.87149552e-02 -4.05997958e-03  2.85399882e+00\n",
      " -2.86843637e+00  5.92814778e+00 -7.26933458e-03 -9.68514157e-01\n",
      "  1.71151128e-01 -9.39621540e-03 -3.92190926e-01  1.49056102e-02\n",
      " -4.16304471e-01]\n"
     ]
    }
   ],
   "source": [
    "\"-------Collecting the Data----------------------\"\n",
    "import sklearn.datasets\n",
    "\n",
    "house_data=sklearn.datasets.load_boston()\n",
    "\n",
    "X=house_data.data\n",
    "y=house_data.target\n",
    "\"-------------------------------------------------\"\n",
    "\n",
    "# The squared error, summed over training examples\n",
    "def my_loss(w):\n",
    "    s = 0\n",
    "    for i in range(y.size):\n",
    "        # Get the true and predicted target values for example 'i'\n",
    "        y_i_true = y[i]\n",
    "        y_i_pred = w@X[i]\n",
    "        s = s + (y_i_true-y_i_pred)**2\n",
    "    return s\n",
    "from scipy.optimize import minimize\n",
    "from sklearn.linear_model import LinearRegression\n",
    "# Returns the w that makes my_loss(w) smallest\n",
    "w_fit = minimize(my_loss, X[0]).x\n",
    "print(w_fit)\n",
    "\n",
    "# Compare with scikit-learn's LinearRegression coefficients\n",
    "lr = LinearRegression(fit_intercept=False).fit(X,y)\n",
    "print(lr.coef_)"
   ]
  },
  {
   "cell_type": "markdown",
   "metadata": {},
   "source": [
    "Conclusion: \n",
    "- Coefficients that are obtained from LinearRegression are almost the same as that were obtained from our defined loss function. "
   ]
  },
  {
   "cell_type": "code",
   "execution_count": null,
   "metadata": {},
   "outputs": [],
   "source": []
  }
 ],
 "metadata": {
  "kernelspec": {
   "display_name": "Python 3",
   "language": "python",
   "name": "python3"
  },
  "language_info": {
   "codemirror_mode": {
    "name": "ipython",
    "version": 3
   },
   "file_extension": ".py",
   "mimetype": "text/x-python",
   "name": "python",
   "nbconvert_exporter": "python",
   "pygments_lexer": "ipython3",
   "version": "3.7.4"
  }
 },
 "nbformat": 4,
 "nbformat_minor": 2
}
